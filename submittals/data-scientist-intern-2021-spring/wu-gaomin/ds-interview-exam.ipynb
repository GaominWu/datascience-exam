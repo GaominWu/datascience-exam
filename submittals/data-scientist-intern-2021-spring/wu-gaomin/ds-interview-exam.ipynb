{
 "cells": [
  {
   "cell_type": "markdown",
   "metadata": {},
   "source": [
    "<div class=\"clearfix\" style=\"padding: 10px; padding-left: 0px\">\n",
    "<a href=\"http://bombora.com\"><img src=\"https://app.box.com/shared/static/e0j9v1xjmubit0inthhgv3llwnoansjp.png\" width=\"200px\" class=\"pull-right\" style=\"display: inline-block; margin: 5px; vertical-align: middle;\"></a>\n",
    "<h1> Bombora Data Science: <br> *Interview Exam* </h1>\n",
    "</div>\n",
    "\n",
    "<img width=\"200px\" src=\"https://app.box.com/shared/static/15slg1mvjd1zldbg3xkj9picjkmhzpa5.png\">"
   ]
  },
  {
   "cell_type": "markdown",
   "metadata": {},
   "source": [
    "---\n",
    "# Welcome\n",
    "\n",
    "Welcome! This notebook contains interview exam questions referenced in the *Instructions* section in the `README.md`—please read that first, *before* attempting to answer questions here.\n",
    "\n",
    "<div class=\"alert alert-info\" role=\"alert\" style=\"margin: 10px\">\n",
    "<p style=\"font-weight:bold\">ADVICE</p>\n",
    "<p>*Do not* read these questions, and panic, *before* reading the instructions in `README.md`.</p>\n",
    "</div>\n",
    "\n",
    "<div class=\"alert alert-warning\" role=\"alert\" style=\"margin: 10px\">\n",
    "<p style=\"font-weight:bold\">WARNING</p>\n",
    "\n",
    "<p>If using <a href=\"https://try.jupyter.org\">try.jupyter.org</a> do not rely on the server for anything you want to last - your server will be <span style=\"font-weight:bold\">deleted after 10 minutes of inactivity</span>. Save often and rember download notebook when you step away (you can always re-upload and start again)!</p>\n",
    "</div>\n",
    "\n",
    "\n",
    "## Have fun!\n",
    "\n",
    "Regardless of outcome, getting to know you is important. Give it your best shot and we'll look forward to following up!"
   ]
  },
  {
   "cell_type": "markdown",
   "metadata": {},
   "source": [
    "# Exam Questions"
   ]
  },
  {
   "cell_type": "markdown",
   "metadata": {},
   "source": [
    "## 1. Algo + Data Structures"
   ]
  },
  {
   "cell_type": "markdown",
   "metadata": {},
   "source": [
    "### Q 1.1: Fibionacci\n",
    "![fib image](https://upload.wikimedia.org/wikipedia/commons/thumb/9/93/Fibonacci_spiral_34.svg/200px-Fibonacci_spiral_34.svg.png)"
   ]
  },
  {
   "cell_type": "markdown",
   "metadata": {},
   "source": [
    "#### Q 1.1.1\n",
    "Given $n$ where $n \\in \\mathbb{N}$ (i.e., $n$ is an integer and $n > 0$), write a function `fibonacci(n)` that computes the Fibonacci number $F_n$, where $F_n$ is defined by the recurrence relation:\n",
    "\n",
    "$$ F_n = F_{n-1} + F_{n-2}$$\n",
    "\n",
    "with initial conditions of:\n",
    "\n",
    "$$ F_1 = 1,  F_2 = 1$$"
   ]
  },
  {
   "cell_type": "code",
   "execution_count": 1,
   "metadata": {},
   "outputs": [],
   "source": [
    "def fibonacci(n):\n",
    "    # making sure that the input is a valid integer\n",
    "    if not isinstance(n, int) or n < 1:\n",
    "        raise TypeError(\"Please input integer greater than or equal to 1!\")  \n",
    "        \n",
    "    #base case\n",
    "    if n <= 2:\n",
    "        return 1\n",
    "        \n",
    "    # looking through to compute fibonacci numbers\n",
    "    prev = 1 #stores the value at i-1, here for 2\n",
    "    prev_prev = 1 #stores the value at i-2, here for 1\n",
    "    for i in range(3, n+1):\n",
    "        res = prev + prev_prev #res stores the value of fib(i)\n",
    "        prev_prev = prev;\n",
    "        prev = res\n",
    "        \n",
    "    return res"
   ]
  },
  {
   "cell_type": "markdown",
   "metadata": {},
   "source": [
    "### Unit testing our function\n",
    "Defining some test cases for our function. We explicitly test for\n",
    "+ The function returns the base case values currently\n",
    "+ The function raises an exception when the input is illegal\n",
    "+ The function returns the correct fibonacci number when the input is legal. "
   ]
  },
  {
   "cell_type": "code",
   "execution_count": 2,
   "metadata": {},
   "outputs": [],
   "source": [
    "#use dictionary to define the test cases. Key is the input and value is the expected output\n",
    "\n",
    "excemption_inputs = [-10, -1, 0]\n",
    "base_test = {1:1, 2:1}\n",
    "generic_test = {4: 3, 5:5, 7:13, 10: 55, 13:233}"
   ]
  },
  {
   "cell_type": "code",
   "execution_count": 3,
   "metadata": {},
   "outputs": [],
   "source": [
    "# for x in excemption_inputs:\n",
    "#     fibonacci(x)\n",
    "    \n",
    "    \n",
    "#it raises an error. If use unittest package from Python we can check for this automatically. \n",
    "#But it's difficult to use with notebook"
   ]
  },
  {
   "cell_type": "code",
   "execution_count": 4,
   "metadata": {},
   "outputs": [],
   "source": [
    "def check_if_passes(func, test):\n",
    "    for x in test.keys():\n",
    "        assert(func(x) == test[x])\n",
    "        \n",
    "    print('All passed ok!')"
   ]
  },
  {
   "cell_type": "code",
   "execution_count": 5,
   "metadata": {},
   "outputs": [
    {
     "name": "stdout",
     "output_type": "stream",
     "text": [
      "All passed ok!\n"
     ]
    }
   ],
   "source": [
    "check_if_passes(fibonacci, base_test)"
   ]
  },
  {
   "cell_type": "code",
   "execution_count": 6,
   "metadata": {},
   "outputs": [
    {
     "name": "stdout",
     "output_type": "stream",
     "text": [
      "All passed ok!\n"
     ]
    }
   ],
   "source": [
    "check_if_passes(fibonacci, generic_test)"
   ]
  },
  {
   "cell_type": "markdown",
   "metadata": {},
   "source": [
    "#### Q 1.1.2\n",
    "What's the complexity of your implementation?"
   ]
  },
  {
   "cell_type": "markdown",
   "metadata": {},
   "source": [
    "---\n",
    "\n",
    "The time complexity of this bottom up methods is $O(n)$, as the implementation visit all `i` from 3 to n once. Our current implement has a constant space complexity $O(1)$. If we had stored an array of all the previous fibonacci numbers instead, the complexity would have been $O(n)$ as we need an array of length n to store all those numbers. "
   ]
  },
  {
   "cell_type": "markdown",
   "metadata": {},
   "source": [
    "#### Q 1.1.3\n",
    "Consider an alternative implementation to compute Fibonacci number $F_n$ and write a new function, `fibonacci2(n)`."
   ]
  },
  {
   "cell_type": "markdown",
   "metadata": {},
   "source": [
    "**Solution**: We provide two different **recursive** solutions below since our implementaiton in 1.1.1 was using dynamic programming/loop. "
   ]
  },
  {
   "cell_type": "markdown",
   "metadata": {},
   "source": [
    "#### Naive Recursion"
   ]
  },
  {
   "cell_type": "code",
   "execution_count": 7,
   "metadata": {},
   "outputs": [],
   "source": [
    "def fibonacci2_naive(n):\n",
    "    # making sure that the input is a valid integer\n",
    "    if not isinstance(n, int) or n < 1:\n",
    "        raise TypeError(\"Please input integer greater than or equal to 1!\")  \n",
    "        \n",
    "    #base case\n",
    "    if n <= 2:\n",
    "        return 1\n",
    "    \n",
    "    return fibonacci2_naive(n-1) + fibonacci2_naive(n-2)"
   ]
  },
  {
   "cell_type": "code",
   "execution_count": 8,
   "metadata": {},
   "outputs": [
    {
     "name": "stdout",
     "output_type": "stream",
     "text": [
      "All passed ok!\n"
     ]
    }
   ],
   "source": [
    "check_if_passes(fibonacci2_naive, base_test)"
   ]
  },
  {
   "cell_type": "code",
   "execution_count": 9,
   "metadata": {},
   "outputs": [
    {
     "name": "stdout",
     "output_type": "stream",
     "text": [
      "All passed ok!\n"
     ]
    }
   ],
   "source": [
    "check_if_passes(fibonacci2_naive, generic_test)"
   ]
  },
  {
   "cell_type": "markdown",
   "metadata": {},
   "source": [
    "This implementation is very inefficient in time (and recursion stack space as explained below in 1.1.4). We provide an optimized recursive implementation by using a hashmap to reduce the computation time. "
   ]
  },
  {
   "cell_type": "markdown",
   "metadata": {},
   "source": [
    "#### Optimized Recursion"
   ]
  },
  {
   "cell_type": "code",
   "execution_count": 10,
   "metadata": {},
   "outputs": [],
   "source": [
    "fib_lookup = {1:1, 2:1}\n",
    "\n",
    "def fibonacci2_opt(n):\n",
    "    # making sure that the input is a valid integer\n",
    "    if not isinstance(n, int) or n < 1:\n",
    "        raise TypeError(\"Please input integer greater than or equal to 1!\")  \n",
    "        \n",
    "    if n not in fib_lookup:\n",
    "        fibn = fibonacci2_opt(n-1) + fibonacci2_opt(n-2)\n",
    "        fib_lookup[n] = fibn\n",
    "        \n",
    "    \n",
    "    return fib_lookup[n]"
   ]
  },
  {
   "cell_type": "code",
   "execution_count": 11,
   "metadata": {},
   "outputs": [
    {
     "name": "stdout",
     "output_type": "stream",
     "text": [
      "All passed ok!\n"
     ]
    }
   ],
   "source": [
    "check_if_passes(fibonacci2_opt, base_test)"
   ]
  },
  {
   "cell_type": "code",
   "execution_count": 12,
   "metadata": {},
   "outputs": [
    {
     "name": "stdout",
     "output_type": "stream",
     "text": [
      "All passed ok!\n"
     ]
    }
   ],
   "source": [
    "check_if_passes(fibonacci2_opt, generic_test)"
   ]
  },
  {
   "cell_type": "markdown",
   "metadata": {},
   "source": [
    "#### Q 1.1.4\n",
    "What's the complexity of your implementation?"
   ]
  },
  {
   "cell_type": "markdown",
   "metadata": {},
   "source": [
    "**Naive Recursion** : For the naive recursion, to compute $F(n)$ we branch out and have to construct a whole tree with $2^n$ elements. The **time complexity** for this will be **exponential** at $O(2^n)$.  We don't use any additional varibles - so in that sense we have a **constant space complexity**. However, we **use $O(n)$ memory in the recursion stack**. To compute $F(n)$ we call $F(n-1)$, $F(n-2)$ and so on and the recursion stack has to remember this. \n",
    "\n",
    "**Optimized Recursion**: The time complexity of this optimized is $O(n)$ as we avoid recomputation (similar to solution in 1.1). An essential ingredient of achieving linear time complexity is using a hashmap or dictionary to store the lookup table. Hashmap allows us to search for the element and access it in constant time. However, the use of Hasmap requires space making our method have $O(n)$ space complexity. "
   ]
  },
  {
   "cell_type": "markdown",
   "metadata": {},
   "source": [
    "#### Q 1.1.5\n",
    "What are some examples of optimizations that could improve computational performance?\n"
   ]
  },
  {
   "cell_type": "markdown",
   "metadata": {},
   "source": [
    "**Solution**: An optimization I haven't discussed in solution 1.1.1 or 1.1.4 is using the **closed form expression** directly:\n",
    "\n",
    "$$F_n = \\frac{\\varphi^n-\\psi^n}{\\sqrt 5}$$ where golden ratio $\\psi$ is defined as \n",
    "$$\\psi = \\frac{1 - \\sqrt{5}}{2}$$\n",
    "\n",
    "This closed form expression gives us answer in essentially constant time with no additonal space complexity. If we consider the time required to do the exponential in the formula, we take $O(logn)$ to compute $F_n$ as as number to the power $n$ can be computed in $logn$ time. \n",
    "\n",
    "Summarizing some optimization strategies I have already discussed in 1.1.1 and 1.1.3:\n",
    "\n",
    "+ We see that the naive recursive solution has exponential time complexity and we optimized the time complexity to linear time by using a hashmap to memorize the already computed values (1.1.3 and 1.1.4). \n",
    "\n",
    "+ We provided a linear time dynamic programming based algorithm in 1.1 which is an improvement over naive recursion. A naive bottoms up implementation of DP would require $O(n)$ space complexity to store an array of all the Fibonacci numbers computed. However, we optimized space by realizing that the recursing relation only depends on the previous two time steps thereby requiring only constant space. \n",
    "\n",
    "\n"
   ]
  },
  {
   "cell_type": "markdown",
   "metadata": {},
   "source": [
    "### Q 1.2: Linked List\n",
    "![ll img](https://upload.wikimedia.org/wikipedia/commons/thumb/6/6d/Singly-linked-list.svg/500px-Singly-linked-list.svg.png)"
   ]
  },
  {
   "cell_type": "markdown",
   "metadata": {},
   "source": [
    "#### Q 1.2.1\n",
    "Consider a [singly linked list](https://en.wikipedia.org/wiki/Linked_list), $L$. Write a function `is_palindrome(L)` that detects if $L$ is a [palindrome](https://en.wikipedia.org/wiki/Palindrome), by returning a bool, `True` or `False`.\n"
   ]
  },
  {
   "cell_type": "markdown",
   "metadata": {},
   "source": [
    "#### Q 1.2.2\n",
    "What is the complexity of your implementation?"
   ]
  },
  {
   "cell_type": "markdown",
   "metadata": {},
   "source": [
    "#### Q 1.2.3\n",
    "Consider an alternative implementation to detect if L is a palindrome and write a new function, `is_palindrome2(L)`."
   ]
  },
  {
   "cell_type": "markdown",
   "metadata": {},
   "source": [
    "#### Q 1.2.4\n",
    "What's the complexity of this implementation?\n"
   ]
  },
  {
   "cell_type": "markdown",
   "metadata": {},
   "source": [
    "#### Q 1.2.5 \n",
    "What are some examples of optimizations that could improve computational performance?\n"
   ]
  },
  {
   "cell_type": "markdown",
   "metadata": {},
   "source": [
    "## 2. Prob + Stats"
   ]
  },
  {
   "cell_type": "markdown",
   "metadata": {},
   "source": [
    "### Q 2.1: Finding $\\pi$ in a random uniform?\n",
    "<img src=https://www.epicurus.com/food/recipes/wp-content/uploads/2015/03/Pi-Day.jpg width=\"480\">\n",
    "\n",
    "Given a uniform random generator $[0,1)$ (e.g., use your language's standard libary to generate random value), write a a function `compute_pi` to compute [$\\pi$](https://en.wikipedia.org/wiki/Pi)."
   ]
  },
  {
   "cell_type": "markdown",
   "metadata": {},
   "source": [
    "**Solution**: If we generate random numbers $(x, y)$ where both are distribution uniformly in $[0, 1)$ space, then are equally probable for fall anywhere in the area enclosed within $(0, 0)$ and $(1, 1)$ uniformly. If we consider the intersection of a unit cirlce with this area, it is a quarter cirlce with the area of intersection being $\\frac{\\pi}{4}$. Let $N$ be the total number of random points we generate in the  area within $(0, 0)$ and $(1, 1)$ and let $M$ be the number of points that fall into this quarter circle. Then we know that\n",
    "$$ \\frac{M}{N} = \\frac{\\pi}{4} $$\n",
    "\n",
    "Therefore, \n",
    "$$ \\hat{\\pi} = \\frac{4M}{N} $$\n",
    "\n",
    "\n",
    "This is a monte-carlo way of estimating the value of $\\pi$. Our approximation for $\\pi$ gets better as the number of points we generate $N$ increases. "
   ]
  },
  {
   "cell_type": "code",
   "execution_count": 13,
   "metadata": {},
   "outputs": [],
   "source": [
    "import numpy as np\n",
    "\n",
    "def estimate_pi(N):\n",
    "    random_points = np.random.uniform(size = [2, N])\n",
    "    norm_of_points = np.linalg.norm(random_points, axis = 0)\n",
    "    \n",
    "    #if the norm of a point is less than 1, that means that it is within the quarter circle\n",
    "    \n",
    "    M = np.sum(norm_of_points < 1) #number of points within the quarter circle\n",
    "    \n",
    "    return (4*M)/N"
   ]
  },
  {
   "cell_type": "markdown",
   "metadata": {},
   "source": [
    "Let's check the peformance of our method with increasing value of $N$. We expect our method to produce better estimates (ie more accurate measurement of $\\pi$ and lower variance) with increasing value of $N$. Let's run the estimate 25 times for each N to find look at the variance"
   ]
  },
  {
   "cell_type": "code",
   "execution_count": 14,
   "metadata": {},
   "outputs": [],
   "source": [
    "N_array = [10, 50, 10**2, 10**3, 10**4]\n",
    "n_runs = 25"
   ]
  },
  {
   "cell_type": "code",
   "execution_count": 15,
   "metadata": {},
   "outputs": [],
   "source": [
    "result_with_N = {}\n",
    "\n",
    "for N in N_array:\n",
    "    result_with_N[N] = [estimate_pi(N) for _ in range(n_runs)]"
   ]
  },
  {
   "cell_type": "code",
   "execution_count": 16,
   "metadata": {},
   "outputs": [],
   "source": [
    "import matplotlib.pyplot as plt"
   ]
  },
  {
   "cell_type": "code",
   "execution_count": 17,
   "metadata": {},
   "outputs": [
    {
     "data": {
      "image/png": "[encoded data removed]",
      "text/plain": [
       "<Figure size 720x360 with 1 Axes>"
      ]
     },
     "metadata": {
      "needs_background": "light"
     },
     "output_type": "display_data"
    }
   ],
   "source": [
    "plt.figure(figsize = (10, 5))\n",
    "_ = plt.boxplot(result_with_N.values())\n",
    "_ = plt.axhline(y = np.pi, linestyle = 'dotted', label = '$\\pi = 3.14159 \\dots$')\n",
    "_ = plt.xticks(range(1, len(N_array)+1), N_array)\n",
    "\n",
    "_ = plt.title(f'Box plot of estimate of pi for {n_runs} for different N')\n",
    "_ = plt.xlabel('N')\n",
    "_ = plt.ylabel('Estimate of $\\pi$')\n",
    "_ = plt.legend()"
   ]
  },
  {
   "cell_type": "markdown",
   "metadata": {},
   "source": [
    "As we expected, we see that our estimates gets better with increasing value of $N$. We can also see this by plotting the error (MSE between estimated and real value of $\\pi$) with $N$ but this can also be inferred from our box plot above. \n",
    "\n",
    "To make our method better, for the future, we can also provde **confidence interval** on our estimate of $\\pi$ (reasonable when N is large). "
   ]
  },
  {
   "cell_type": "markdown",
   "metadata": {},
   "source": [
    "### Q 2.2: Making a 6-side die roll a 7?\n",
    "\n",
    "Using a single 6-side die, how can you generate a random number between 1 - 7?"
   ]
  },
  {
   "cell_type": "markdown",
   "metadata": {},
   "source": [
    "### Q 2.3: Is normality uniform?\n",
    "\n",
    "<img src=https://rednaxela1618.files.wordpress.com/2014/06/uniformnormal.png width=\"480\">\n",
    "\n",
    "\n",
    "Given draws from a normal distribution with known parameters, how can you simulate draws from a uniform distribution?"
   ]
  },
  {
   "cell_type": "markdown",
   "metadata": {},
   "source": [
    "### Q 2.4: Should you pay or should you go?\n",
    "\n",
    "![coin flip](https://lh5.ggpht.com/iwD6MnHeHVAXNBgrO7r4N9MQxxYi6wT9vb0Mqu905zTnNlBciONAA98BqafyjzC06Q=w300)\n",
    "\n",
    "Let’s say we play a game where I keep flipping a coin until I get heads. If the first time I get heads is on the nth coin, then I pay you $2^{(n-1)}$ US dollars. How much would you pay me to play this game? Explain."
   ]
  },
  {
   "cell_type": "markdown",
   "metadata": {},
   "source": [
    "### Q 2.5: Uber vs. Lyft\n",
    "\n",
    "![uber vs lyft](http://usiaffinity.typepad.com/.a/6a01347fc1cb08970c01bb0876bcbe970d-pi)\n",
    "\n",
    "You request 2 UberX’s and 3 Lyfts. If the time that each takes to reach you is IID, what is the probability that all the Lyfts arrive first? What is the probability that all the UberX’s arrive first?"
   ]
  },
  {
   "cell_type": "markdown",
   "metadata": {},
   "source": [
    "### Q 2.6: Pick your prize\n",
    "<img src=https://miro.medium.com/max/1100/1*m5b3O9sE68UCXjLw5oxy2g.png width=\"480\">\n",
    "\n",
    "A prize is placed at random behind one of three doors and you are asked to pick a door. To be concrete, say you always pick door 1. Now the game host chooses one of door 2 or 3, opens it and shows you that it is empty. They then give you the option to keep your picked door or switch to the unopened door. Should you stay or switch if you want to maximize your probability of winning the prize?"
   ]
  },
  {
   "cell_type": "markdown",
   "metadata": {},
   "source": [
    "**Solution**: We want to switch. The probability of winning by switching is 2/3.\n",
    "\n",
    "Let's assume the host open door 3 and it's empty. Then the event of me win by switching will be the prize is in door 2 conditioned on the host open the door 3. \n",
    "\n",
    "$$P(\\text{win by switching}) = P(\\text{price in door 2 | host open empty door 3} = \\frac{P(\\text{price in door 2 and open empty door 3})}{P(\\text{host open empty door 3})} ) $$\n",
    "\n",
    "\n",
    "$$P(\\text{open empty door 3}) = P(\\text{price in door 1 and open empty door 3}) + P(\\text{price in door 2 and open empty door 3}) = 1/3 * 1/2 + 1/3 * 1 = 1/2 $$\n",
    "$$P(\\text{price in door 2 and open empty door 3}) = 1/3 * 1 = 1/3 $$\n",
    "\n",
    "Then $$P(\\text{win by switching}) = P(\\text{price in door 2 | host open empty door 3}) = 2/3 $$\n",
    "\n",
    "\n",
    "\n",
    "\n"
   ]
  },
  {
   "cell_type": "markdown",
   "metadata": {},
   "source": [
    "## 3 Conceptual ML\n"
   ]
  },
  {
   "cell_type": "markdown",
   "metadata": {},
   "source": [
    "### Q 3.1 Why study gradient boosting or neural networks?\n",
    "\n",
    "Consider a regression setting where $X \\in \\mathbb{R}^p$ and $Y \\in \\mathbb{R}$. The goal is to come up with a function $f(X): \\mathbb{R}^p \\rightarrow \\mathbb{R}$ that minimizes the squared-error loss $(Y - f(X))^2$. Since X, Y are random variables, we seek to minimize the expectation of the squared error loss as follows\n",
    "\\begin{equation}\n",
    "EPE(f) = \\mathbb{E}\\left[(Y-f(X)^2\\right]\n",
    "\\end{equation}\n",
    "where EPE stands for expected prediction error. One can show that minimizing the expected prediction error leads to the following _regression function_\n",
    "\\begin{equation}\n",
    "f(x) = \\mathbb{E}\\left[Y|X=x\\right]\n",
    "\\end{equation}\n",
    "\n",
    "The goal of any method is to approximate the regression function above, which we denote as $\\hat{f}(x)$. For example, linear regression explicitly assumes that the regression function is approximately linear in its arguments, i.e. $\\hat{f}(x) = x^T\\beta$ while a neural network provides a nonlinear approximation of the regression function. \n",
    "\n",
    "The simplest of all these methods is [k-nearest neighbors](https://en.wikipedia.org/wiki/K-nearest_neighbors_algorithm). Given $x$ and some neighbourhood of $k$ points $N_k(x)$, $\\hat{f}(x)$ is simply the average of all $y_i|x_i \\in N_k(x)$.  Let $N$ denote the training sample size. Under mild regularity conditions on the joint probability distribution $Pr(X, Y)$, one can show that as $N \\rightarrow \\infty$, $k \\rightarrow \\infty$ such that $k/N \\rightarrow 0$, then $\\hat{f}(x) \\rightarrow f(x)$ where $\\rightarrow$ means approaches or goes to. In other words, the k-nearest neighbors algorithm converges to the ideal solution as both the training sample size and number of neighbors increase to infinity.\n",
    "\n",
    "Now given this _universal approximator_, why look any further and research other methods? Please share your thoughts.\n"
   ]
  },
  {
   "cell_type": "markdown",
   "metadata": {},
   "source": [
    "**Solution**: The primary reason why this universal approximator cannot work in practise is the **curse of dimensionality**.\n",
    "\n",
    "If we consider the euclidean distance to the closet k points for a given point, this will go up (exponentially) with increasing dimension. Now, a typicaly top-1 closest point will be much farther away from the point under consideration in high dimensions and therefore the estimate we get from the y value corresponding to this point will not be good. "
   ]
  },
  {
   "cell_type": "markdown",
   "metadata": {},
   "source": [
    "### Q 3.2 Model Selection and Assesment\n",
    "\n",
    "Consider a multiclass classification problem with a large number of features $p >> N$, for e.g $p=10000, N=100$ The task is threefold\n",
    "1. Find a \"good\" subset of features that show strong _univariate_ correlation with class labels\n",
    "2. Using the \"good\" subset, build a multi class classifier\n",
    "3. Estimate the generalization error of the final model\n",
    "\n",
    "Given this dataset, outline your approach and please be sure to cover the following\n",
    "- Data splitting\n",
    "- Model Selection: either estimating the performance of different classifiers or the same classifier with different hyperparameters\n",
    "- Model Assessment: having chosen a classifier, estimating the generalization error\n",
    "\n",
    "Assume all features are numerical, the dataset contains no NULLS, outliers, etc. and doesn't require any preprocessing.\n",
    "\n"
   ]
  },
  {
   "cell_type": "markdown",
   "metadata": {},
   "source": [
    "**Solution**: We can use k-fold cross validation to estimate the gererallization error of the final model. The process is listed as follows:\n",
    "1. Divide the whole data $D$ in to K groups at random.\n",
    "2. For each fold $i =1, ..., K$:\n",
    "      \n",
    "    2.1 Use all the data except those in fold $i$, noted as $D_{ci}$, to find a \"good\" subset, $S_i$, of features that show strong univariate correlation with class labels.\n",
    "    Specifically speaking, strong univariate correlation is calculated by the correlation of the one-vs-all class labels.\n",
    "    \n",
    "    2.2 Use features in $S_i$ to build a multiclass classifier, train the classifier with $D_{ci}$.\n",
    "    \n",
    "    2.3 Use the classifier to predict data in fold $i$, and get estimated error $e_i$.\n",
    "    \n",
    "3. The estimated generalization error of the final model is $\\sum_{i=1}^K e_i$\n"
   ]
  },
  {
   "cell_type": "code",
   "execution_count": null,
   "metadata": {},
   "outputs": [],
   "source": []
  }
 ],
 "metadata": {
  "kernelspec": {
   "display_name": "Python 3",
   "language": "python",
   "name": "python3"
  },
  "language_info": {
   "codemirror_mode": {
    "name": "ipython",
    "version": 3
   },
   "file_extension": ".py",
   "mimetype": "text/x-python",
   "name": "python",
   "nbconvert_exporter": "python",
   "pygments_lexer": "ipython3",
   "version": "3.8.5"
  }
 },
 "nbformat": 4,
 "nbformat_minor": 4
}
